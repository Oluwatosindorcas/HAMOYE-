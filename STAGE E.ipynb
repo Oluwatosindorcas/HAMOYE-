{
 "cells": [
  {
   "cell_type": "code",
   "execution_count": 1,
   "id": "718a54e7",
   "metadata": {},
   "outputs": [],
   "source": [
    "import numpy as np \n",
    "import pandas as pd \n",
    "import matplotlib.pyplot as plt"
   ]
  },
  {
   "cell_type": "code",
   "execution_count": 2,
   "id": "5fb3ae29",
   "metadata": {},
   "outputs": [
    {
     "data": {
      "text/html": [
       "<div>\n",
       "<style scoped>\n",
       "    .dataframe tbody tr th:only-of-type {\n",
       "        vertical-align: middle;\n",
       "    }\n",
       "\n",
       "    .dataframe tbody tr th {\n",
       "        vertical-align: top;\n",
       "    }\n",
       "\n",
       "    .dataframe thead th {\n",
       "        text-align: right;\n",
       "    }\n",
       "</style>\n",
       "<table border=\"1\" class=\"dataframe\">\n",
       "  <thead>\n",
       "    <tr style=\"text-align: right;\">\n",
       "      <th></th>\n",
       "      <th>FullDate</th>\n",
       "      <th>Tmax</th>\n",
       "      <th>SysLoad</th>\n",
       "      <th>GasPrice</th>\n",
       "      <th>ElecPrice</th>\n",
       "    </tr>\n",
       "  </thead>\n",
       "  <tbody>\n",
       "    <tr>\n",
       "      <th>0</th>\n",
       "      <td>2010-09-01 00:00:00</td>\n",
       "      <td>15.8</td>\n",
       "      <td>1688.215</td>\n",
       "      <td>3.69</td>\n",
       "      <td>23.710</td>\n",
       "    </tr>\n",
       "    <tr>\n",
       "      <th>1</th>\n",
       "      <td>2010-09-01 01:00:00</td>\n",
       "      <td>15.8</td>\n",
       "      <td>1669.195</td>\n",
       "      <td>3.69</td>\n",
       "      <td>22.635</td>\n",
       "    </tr>\n",
       "    <tr>\n",
       "      <th>2</th>\n",
       "      <td>2010-09-01 02:00:00</td>\n",
       "      <td>15.8</td>\n",
       "      <td>1491.980</td>\n",
       "      <td>3.69</td>\n",
       "      <td>22.565</td>\n",
       "    </tr>\n",
       "    <tr>\n",
       "      <th>3</th>\n",
       "      <td>2010-09-01 03:00:00</td>\n",
       "      <td>15.8</td>\n",
       "      <td>1330.760</td>\n",
       "      <td>3.69</td>\n",
       "      <td>18.910</td>\n",
       "    </tr>\n",
       "    <tr>\n",
       "      <th>4</th>\n",
       "      <td>2010-09-01 04:00:00</td>\n",
       "      <td>15.8</td>\n",
       "      <td>1247.940</td>\n",
       "      <td>3.69</td>\n",
       "      <td>18.030</td>\n",
       "    </tr>\n",
       "  </tbody>\n",
       "</table>\n",
       "</div>"
      ],
      "text/plain": [
       "              FullDate  Tmax   SysLoad  GasPrice  ElecPrice\n",
       "0  2010-09-01 00:00:00  15.8  1688.215      3.69     23.710\n",
       "1  2010-09-01 01:00:00  15.8  1669.195      3.69     22.635\n",
       "2  2010-09-01 02:00:00  15.8  1491.980      3.69     22.565\n",
       "3  2010-09-01 03:00:00  15.8  1330.760      3.69     18.910\n",
       "4  2010-09-01 04:00:00  15.8  1247.940      3.69     18.030"
      ]
     },
     "execution_count": 2,
     "metadata": {},
     "output_type": "execute_result"
    }
   ],
   "source": [
    "df = pd.read_csv('Time_series_analysis_and_forecast_DATASET.csv')\n",
    "df.head()"
   ]
  },
  {
   "cell_type": "code",
   "execution_count": 4,
   "id": "a5cd816e",
   "metadata": {},
   "outputs": [
    {
     "data": {
      "text/plain": [
       "FullDate     datetime64[ns]\n",
       "Tmax                float64\n",
       "SysLoad             float64\n",
       "GasPrice            float64\n",
       "ElecPrice           float64\n",
       "dtype: object"
      ]
     },
     "execution_count": 4,
     "metadata": {},
     "output_type": "execute_result"
    }
   ],
   "source": [
    "df['FullDate'] = pd.to_datetime(df['FullDate'])\n",
    "df.dtypes"
   ]
  },
  {
   "cell_type": "code",
   "execution_count": 5,
   "id": "f8c7dac8",
   "metadata": {},
   "outputs": [],
   "source": [
    "df.rename(columns = {'FullDate':'ds', 'ElecPrice':'y'}, inplace = True)"
   ]
  },
  {
   "cell_type": "code",
   "execution_count": 6,
   "id": "043e422f",
   "metadata": {},
   "outputs": [],
   "source": [
    "df= df[['ds', 'y', 'SysLoad', 'Tmax', 'GasPrice']]"
   ]
  },
  {
   "cell_type": "code",
   "execution_count": 7,
   "id": "e3278cde",
   "metadata": {},
   "outputs": [],
   "source": [
    "df.set_index( \"ds\" , inplace= True)"
   ]
  },
  {
   "cell_type": "code",
   "execution_count": 8,
   "id": "b6a42475",
   "metadata": {},
   "outputs": [],
   "source": [
    "df = df.resample('D').sum()"
   ]
  },
  {
   "cell_type": "code",
   "execution_count": 9,
   "id": "40fddcd7",
   "metadata": {},
   "outputs": [
    {
     "data": {
      "text/html": [
       "<div>\n",
       "<style scoped>\n",
       "    .dataframe tbody tr th:only-of-type {\n",
       "        vertical-align: middle;\n",
       "    }\n",
       "\n",
       "    .dataframe tbody tr th {\n",
       "        vertical-align: top;\n",
       "    }\n",
       "\n",
       "    .dataframe thead th {\n",
       "        text-align: right;\n",
       "    }\n",
       "</style>\n",
       "<table border=\"1\" class=\"dataframe\">\n",
       "  <thead>\n",
       "    <tr style=\"text-align: right;\">\n",
       "      <th></th>\n",
       "      <th>y</th>\n",
       "      <th>SysLoad</th>\n",
       "      <th>Tmax</th>\n",
       "      <th>GasPrice</th>\n",
       "    </tr>\n",
       "    <tr>\n",
       "      <th>ds</th>\n",
       "      <th></th>\n",
       "      <th></th>\n",
       "      <th></th>\n",
       "      <th></th>\n",
       "    </tr>\n",
       "  </thead>\n",
       "  <tbody>\n",
       "    <tr>\n",
       "      <th>2010-09-01</th>\n",
       "      <td>2751.700</td>\n",
       "      <td>41565.380</td>\n",
       "      <td>379.2</td>\n",
       "      <td>88.56</td>\n",
       "    </tr>\n",
       "    <tr>\n",
       "      <th>2010-09-02</th>\n",
       "      <td>570.810</td>\n",
       "      <td>38898.990</td>\n",
       "      <td>369.6</td>\n",
       "      <td>88.56</td>\n",
       "    </tr>\n",
       "    <tr>\n",
       "      <th>2010-09-03</th>\n",
       "      <td>504.975</td>\n",
       "      <td>41665.760</td>\n",
       "      <td>439.2</td>\n",
       "      <td>106.80</td>\n",
       "    </tr>\n",
       "    <tr>\n",
       "      <th>2010-09-04</th>\n",
       "      <td>502.275</td>\n",
       "      <td>35638.085</td>\n",
       "      <td>328.8</td>\n",
       "      <td>81.36</td>\n",
       "    </tr>\n",
       "    <tr>\n",
       "      <th>2010-09-05</th>\n",
       "      <td>500.555</td>\n",
       "      <td>35611.410</td>\n",
       "      <td>357.6</td>\n",
       "      <td>106.80</td>\n",
       "    </tr>\n",
       "  </tbody>\n",
       "</table>\n",
       "</div>"
      ],
      "text/plain": [
       "                   y    SysLoad   Tmax  GasPrice\n",
       "ds                                              \n",
       "2010-09-01  2751.700  41565.380  379.2     88.56\n",
       "2010-09-02   570.810  38898.990  369.6     88.56\n",
       "2010-09-03   504.975  41665.760  439.2    106.80\n",
       "2010-09-04   502.275  35638.085  328.8     81.36\n",
       "2010-09-05   500.555  35611.410  357.6    106.80"
      ]
     },
     "execution_count": 9,
     "metadata": {},
     "output_type": "execute_result"
    }
   ],
   "source": [
    "df.head()"
   ]
  },
  {
   "cell_type": "code",
   "execution_count": 10,
   "id": "67470f87",
   "metadata": {},
   "outputs": [
    {
     "data": {
      "text/plain": [
       "[<matplotlib.lines.Line2D at 0x20093ff69a0>]"
      ]
     },
     "execution_count": 10,
     "metadata": {},
     "output_type": "execute_result"
    },
    {
     "data": {
      "image/png": "[encoded data removed]",
      "text/plain": [
       "<Figure size 432x288 with 1 Axes>"
      ]
     },
     "metadata": {
      "needs_background": "light"
     },
     "output_type": "display_data"
    }
   ],
   "source": [
    "plt.plot(df.index, df.y)"
   ]
  },
  {
   "cell_type": "code",
   "execution_count": 11,
   "id": "2d067a3c",
   "metadata": {},
   "outputs": [
    {
     "name": "stdout",
     "output_type": "stream",
     "text": [
      "p-value: 0.004254\n"
     ]
    }
   ],
   "source": [
    "#  Using the Augmented Dicky Fuller test (ADF), what is the P-value of the SysLoad and GasPrice of the resampled Data set, to 6 decimal places?\n",
    "from statsmodels.tsa.stattools import adfuller \n",
    "\n",
    "adf_result = adfuller(df.SysLoad)\n",
    "\n",
    "print( f'p-value: {round(adf_result[1], 6)}')\n"
   ]
  },
  {
   "cell_type": "code",
   "execution_count": 12,
   "id": "daef2283",
   "metadata": {},
   "outputs": [
    {
     "name": "stdout",
     "output_type": "stream",
     "text": [
      "p-value: 0.045027\n"
     ]
    }
   ],
   "source": [
    "# \n",
    "from statsmodels.tsa.stattools import adfuller \n",
    "\n",
    "adf_result = adfuller(df.GasPrice)\n",
    "\n",
    "print( f'p-value: {round(adf_result[1], 6)}')"
   ]
  },
  {
   "cell_type": "code",
   "execution_count": 14,
   "id": "2a6ed1c3",
   "metadata": {},
   "outputs": [
    {
     "name": "stdout",
     "output_type": "stream",
     "text": [
      "Critical Values:\n",
      " 1% : -3.4321 \n",
      " 5% : -2.8623 \n",
      " 10% : -2.5672 \n"
     ]
    }
   ],
   "source": [
    "#   Using the Augmented Dicky Fuller test (ADF) what are the 10% and 5% critical values of GasPrice and ElecPrice of the resampled Data set, to 4 decimal places?\n",
    "from statsmodels.tsa.stattools import adfuller \n",
    "\n",
    "adf_result = adfuller(df.GasPrice)\n",
    "\n",
    "print( 'Critical Values:' ) \n",
    "for k, v in adf_result[ 4 ].items(): \n",
    " print( f' {k} : {round(v, 4)} ' )"
   ]
  },
  {
   "cell_type": "code",
   "execution_count": 15,
   "id": "2d424793",
   "metadata": {},
   "outputs": [
    {
     "name": "stdout",
     "output_type": "stream",
     "text": [
      "Critical Values:\n",
      " 1% : -3.4321 \n",
      " 5% : -2.8623 \n",
      " 10% : -2.5672 \n"
     ]
    }
   ],
   "source": [
    "from statsmodels.tsa.stattools import adfuller \n",
    "\n",
    "adf_result = adfuller(df.GasPrice)\n",
    "\n",
    "print( 'Critical Values:' ) \n",
    "for k, v in adf_result[ 4 ].items(): \n",
    " print( f' {k} : {round(v, 4)} ' )"
   ]
  },
  {
   "cell_type": "code",
   "execution_count": 16,
   "id": "64d242a2",
   "metadata": {},
   "outputs": [
    {
     "name": "stdout",
     "output_type": "stream",
     "text": [
      "Critical Values:\n",
      " 1% : -3.4321 \n",
      " 5% : -2.8623 \n",
      " 10% : -2.5672 \n"
     ]
    }
   ],
   "source": [
    "from statsmodels.tsa.stattools import adfuller \n",
    "\n",
    "adf_result = adfuller(df.y)\n",
    "\n",
    "print( 'Critical Values:' ) \n",
    "for k, v in adf_result[ 4 ].items(): \n",
    " print( f' {k} : {round(v, 4)} ' )"
   ]
  },
  {
   "cell_type": "code",
   "execution_count": 17,
   "id": "b985e551",
   "metadata": {},
   "outputs": [],
   "source": [
    "df_train = df.iloc[:2757]\n",
    "df_test = df.iloc[2757:]"
   ]
  },
  {
   "cell_type": "code",
   "execution_count": 18,
   "id": "0cf9ad80",
   "metadata": {},
   "outputs": [],
   "source": [
    "df_train.reset_index(inplace=True)\n",
    "df_test.reset_index(inplace=True)"
   ]
  },
  {
   "cell_type": "code",
   "execution_count": 19,
   "id": "5041d12d",
   "metadata": {},
   "outputs": [
    {
     "data": {
      "text/plain": [
       "ds          datetime64[ns]\n",
       "y                  float64\n",
       "SysLoad            float64\n",
       "Tmax               float64\n",
       "GasPrice           float64\n",
       "dtype: object"
      ]
     },
     "execution_count": 19,
     "metadata": {},
     "output_type": "execute_result"
    }
   ],
   "source": [
    "df_train.dtypes"
   ]
  },
  {
   "cell_type": "code",
   "execution_count": 20,
   "id": "846c3ea5",
   "metadata": {},
   "outputs": [
    {
     "ename": "ModuleNotFoundError",
     "evalue": "No module named 'fbprophet'",
     "output_type": "error",
     "traceback": [
      "\u001b[1;31m---------------------------------------------------------------------------\u001b[0m",
      "\u001b[1;31mModuleNotFoundError\u001b[0m                       Traceback (most recent call last)",
      "\u001b[1;32m~\\AppData\\Local\\Temp/ipykernel_15800/3873276347.py\u001b[0m in \u001b[0;36m<module>\u001b[1;34m\u001b[0m\n\u001b[1;32m----> 1\u001b[1;33m \u001b[1;32mfrom\u001b[0m \u001b[0mfbprophet\u001b[0m \u001b[1;32mimport\u001b[0m \u001b[0mProphet\u001b[0m\u001b[1;33m\u001b[0m\u001b[1;33m\u001b[0m\u001b[0m\n\u001b[0m\u001b[0;32m      2\u001b[0m \u001b[0mmodel\u001b[0m \u001b[1;33m=\u001b[0m \u001b[0mProphet\u001b[0m\u001b[1;33m(\u001b[0m\u001b[1;33m)\u001b[0m\u001b[1;33m\u001b[0m\u001b[1;33m\u001b[0m\u001b[0m\n\u001b[0;32m      3\u001b[0m \u001b[0mmodel\u001b[0m\u001b[1;33m.\u001b[0m\u001b[0mfit\u001b[0m\u001b[1;33m(\u001b[0m\u001b[0mdf_train\u001b[0m\u001b[1;33m[\u001b[0m\u001b[1;33m[\u001b[0m\u001b[1;34m'ds'\u001b[0m\u001b[1;33m,\u001b[0m \u001b[1;34m'y'\u001b[0m\u001b[1;33m]\u001b[0m\u001b[1;33m]\u001b[0m\u001b[1;33m)\u001b[0m\u001b[1;33m\u001b[0m\u001b[1;33m\u001b[0m\u001b[0m\n",
      "\u001b[1;31mModuleNotFoundError\u001b[0m: No module named 'fbprophet'"
     ]
    }
   ],
   "source": [
    "from fbprophet import Prophet\n",
    "model = Prophet() \n",
    "model.fit(df_train[['ds', 'y']])"
   ]
  },
  {
   "cell_type": "code",
   "execution_count": null,
   "id": "968b9608",
   "metadata": {},
   "outputs": [],
   "source": [
    "df_test_pred = df_test[['ds']]"
   ]
  },
  {
   "cell_type": "code",
   "execution_count": null,
   "id": "b998691f",
   "metadata": {},
   "outputs": [],
   "source": []
  },
  {
   "cell_type": "code",
   "execution_count": null,
   "id": "bba6a66d",
   "metadata": {},
   "outputs": [],
   "source": []
  },
  {
   "cell_type": "code",
   "execution_count": null,
   "id": "20d6fa17",
   "metadata": {},
   "outputs": [],
   "source": []
  },
  {
   "cell_type": "code",
   "execution_count": null,
   "id": "ecf25909",
   "metadata": {},
   "outputs": [],
   "source": []
  },
  {
   "cell_type": "code",
   "execution_count": null,
   "id": "4fcbe857",
   "metadata": {},
   "outputs": [],
   "source": []
  }
 ],
 "metadata": {
  "kernelspec": {
   "display_name": "Python 3 (ipykernel)",
   "language": "python",
   "name": "python3"
  },
  "language_info": {
   "codemirror_mode": {
    "name": "ipython",
    "version": 3
   },
   "file_extension": ".py",
   "mimetype": "text/x-python",
   "name": "python",
   "nbconvert_exporter": "python",
   "pygments_lexer": "ipython3",
   "version": "3.9.7"
  }
 },
 "nbformat": 4,
 "nbformat_minor": 5
}
